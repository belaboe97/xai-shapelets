{
 "cells": [
  {
   "cell_type": "code",
   "execution_count": null,
   "metadata": {},
   "outputs": [],
   "source": [
    "import numpy as np\n",
    "\n",
    "def filterNanFromShapelet(shapelet):\n",
    "    \"\"\"\n",
    "    Filter NaN values from a shapelet.\n",
    "    Needed for the output of learning shapelets from tslearn, since smaller size shapelets are padded with NaN values.\n",
    "    Note: Make sure the NaN values are only leading or trailing.\n",
    "    \"\"\"\n",
    "    return shapelet[~np.isnan(shapelet)]\n",
    "\n",
    "\n",
    "def lead_pad_shapelet(shapelet, pos):\n",
    "    \"\"\"\n",
    "    Adding leading NaN values to shapelet to plot it on a time series at the best matching position.\n",
    "    \"\"\"\n",
    "    pad = np.empty(pos)\n",
    "    pad[:] = np.NaN\n",
    "    padded_shapelet = np.concatenate([pad, filterNanFromShapelet(shapelet)])\n",
    "    return padded_shapelet\n",
    "\n"
   ]
  },
  {
   "cell_type": "code",
   "execution_count": null,
   "metadata": {},
   "outputs": [],
   "source": [
    "import "
   ]
  }
 ],
 "metadata": {
  "language_info": {
   "name": "python"
  }
 },
 "nbformat": 4,
 "nbformat_minor": 2
}
